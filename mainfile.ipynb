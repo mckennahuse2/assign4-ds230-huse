{
 "cells": [
  {
   "cell_type": "code",
   "execution_count": null,
   "metadata": {
    "collapsed": true
   },
   "outputs": [],
   "source": [
    "## McKenna Huse\n",
    "## Assignment 4 - SQL/Course Catalog\n",
    "## DS230 FA21\n",
    "##\n",
    "\n",
    "import pandas\n",
    "import os\n",
    "import requests\n",
    "import json"
   ]
  },
  {
   "cell_type": "code",
   "execution_count": null,
   "outputs": [],
   "source": [
    "# task 1: DB creation of student schedules\n",
    "\n",
    "file = 'F21CourseSchedule.csv' #keep in same folder\n",
    "\n",
    "def openFile(file):\n",
    "    with open(file) as f:\n",
    "        lines = f.readlines()\n",
    "        for l in lines:\n",
    "            print(l)\n",
    "\n",
    "\n",
    "\n",
    "def createSchedTable(db):\n",
    "    return\n",
    "\n",
    "openFile(file)"
   ],
   "metadata": {
    "collapsed": false,
    "pycharm": {
     "name": "#%%\n"
    }
   }
  }
 ],
 "metadata": {
  "kernelspec": {
   "display_name": "Python 3",
   "language": "python",
   "name": "python3"
  },
  "language_info": {
   "codemirror_mode": {
    "name": "ipython",
    "version": 2
   },
   "file_extension": ".py",
   "mimetype": "text/x-python",
   "name": "python",
   "nbconvert_exporter": "python",
   "pygments_lexer": "ipython2",
   "version": "2.7.6"
  }
 },
 "nbformat": 4,
 "nbformat_minor": 0
}